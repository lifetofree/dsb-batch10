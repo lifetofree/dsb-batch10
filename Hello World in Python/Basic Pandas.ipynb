{
 "cells":[
  {
   "cell_type":"code",
   "source":[
    "import pandas as pd"
   ],
   "execution_count":32,
   "outputs":[],
   "metadata":{
    "datalore":{
     "node_id":"gsqVtlLLAxiOH35gYBY2lJ",
     "type":"CODE",
     "hide_input_from_viewers":true,
     "hide_output_from_viewers":true
    }
   }
  },
  {
   "cell_type":"code",
   "source":[
    "# eg. syntax in pandas\n",
    "# pd.DataFrame()\n",
    "# pd.pivot_table()\n",
    "\n",
    "## create dataframe form scratch\n",
    "\n",
    "raw_data = {\n",
    "    \"name\" : [\"Toy\", \"Joe\", \"Marry\", \"John\", \"Anna\"],\n",
    "    \"age\" : [33, 25, 20, 22, 31],\n",
    "    \"gender\" : [\"M\", \"M\", \"F\", \"M\", \"F\"]\n",
    "}\n",
    "\n",
    "df = pd.DataFrame(raw_data)\n",
    "\n",
    "df"
   ],
   "execution_count":33,
   "outputs":[
    {
     "data":{
      "text\/html":[
       "<div>\n",
       "<style scoped>\n",
       "    .dataframe tbody tr th:only-of-type {\n",
       "        vertical-align: middle;\n",
       "    }\n",
       "\n",
       "    .dataframe tbody tr th {\n",
       "        vertical-align: top;\n",
       "    }\n",
       "\n",
       "    .dataframe thead th {\n",
       "        text-align: right;\n",
       "    }\n",
       "<\/style>\n",
       "<table border=\"1\" class=\"dataframe\">\n",
       "  <thead>\n",
       "    <tr style=\"text-align: right;\">\n",
       "      <th><\/th>\n",
       "      <th>name<\/th>\n",
       "      <th>age<\/th>\n",
       "      <th>gender<\/th>\n",
       "    <\/tr>\n",
       "  <\/thead>\n",
       "  <tbody>\n",
       "    <tr>\n",
       "      <th>0<\/th>\n",
       "      <td>Toy<\/td>\n",
       "      <td>33<\/td>\n",
       "      <td>M<\/td>\n",
       "    <\/tr>\n",
       "    <tr>\n",
       "      <th>1<\/th>\n",
       "      <td>Joe<\/td>\n",
       "      <td>25<\/td>\n",
       "      <td>M<\/td>\n",
       "    <\/tr>\n",
       "    <tr>\n",
       "      <th>2<\/th>\n",
       "      <td>Marry<\/td>\n",
       "      <td>20<\/td>\n",
       "      <td>F<\/td>\n",
       "    <\/tr>\n",
       "    <tr>\n",
       "      <th>3<\/th>\n",
       "      <td>John<\/td>\n",
       "      <td>22<\/td>\n",
       "      <td>M<\/td>\n",
       "    <\/tr>\n",
       "    <tr>\n",
       "      <th>4<\/th>\n",
       "      <td>Anna<\/td>\n",
       "      <td>31<\/td>\n",
       "      <td>F<\/td>\n",
       "    <\/tr>\n",
       "  <\/tbody>\n",
       "<\/table>\n",
       "<\/div>"
      ]
     },
     "metadata":{},
     "output_type":"display_data"
    }
   ],
   "metadata":{
    "datalore":{
     "node_id":"j4yQYinSg0qYyhNPmBoEba",
     "type":"CODE",
     "hide_input_from_viewers":true,
     "hide_output_from_viewers":true
    }
   }
  },
  {
   "cell_type":"code",
   "source":[
    "df['city'] = 'London' "
   ],
   "execution_count":34,
   "outputs":[],
   "metadata":{
    "datalore":{
     "node_id":"cSthrf1sh7KWb7bjwzq6pa",
     "type":"CODE",
     "hide_input_from_viewers":true,
     "hide_output_from_viewers":true
    }
   }
  },
  {
   "cell_type":"code",
   "source":[
    "df"
   ],
   "execution_count":35,
   "outputs":[
    {
     "data":{
      "text\/html":[
       "<div>\n",
       "<style scoped>\n",
       "    .dataframe tbody tr th:only-of-type {\n",
       "        vertical-align: middle;\n",
       "    }\n",
       "\n",
       "    .dataframe tbody tr th {\n",
       "        vertical-align: top;\n",
       "    }\n",
       "\n",
       "    .dataframe thead th {\n",
       "        text-align: right;\n",
       "    }\n",
       "<\/style>\n",
       "<table border=\"1\" class=\"dataframe\">\n",
       "  <thead>\n",
       "    <tr style=\"text-align: right;\">\n",
       "      <th><\/th>\n",
       "      <th>name<\/th>\n",
       "      <th>age<\/th>\n",
       "      <th>gender<\/th>\n",
       "      <th>city<\/th>\n",
       "    <\/tr>\n",
       "  <\/thead>\n",
       "  <tbody>\n",
       "    <tr>\n",
       "      <th>0<\/th>\n",
       "      <td>Toy<\/td>\n",
       "      <td>33<\/td>\n",
       "      <td>M<\/td>\n",
       "      <td>London<\/td>\n",
       "    <\/tr>\n",
       "    <tr>\n",
       "      <th>1<\/th>\n",
       "      <td>Joe<\/td>\n",
       "      <td>25<\/td>\n",
       "      <td>M<\/td>\n",
       "      <td>London<\/td>\n",
       "    <\/tr>\n",
       "    <tr>\n",
       "      <th>2<\/th>\n",
       "      <td>Marry<\/td>\n",
       "      <td>20<\/td>\n",
       "      <td>F<\/td>\n",
       "      <td>London<\/td>\n",
       "    <\/tr>\n",
       "    <tr>\n",
       "      <th>3<\/th>\n",
       "      <td>John<\/td>\n",
       "      <td>22<\/td>\n",
       "      <td>M<\/td>\n",
       "      <td>London<\/td>\n",
       "    <\/tr>\n",
       "    <tr>\n",
       "      <th>4<\/th>\n",
       "      <td>Anna<\/td>\n",
       "      <td>31<\/td>\n",
       "      <td>F<\/td>\n",
       "      <td>London<\/td>\n",
       "    <\/tr>\n",
       "  <\/tbody>\n",
       "<\/table>\n",
       "<\/div>"
      ]
     },
     "metadata":{},
     "output_type":"display_data"
    }
   ],
   "metadata":{
    "datalore":{
     "node_id":"hgXHpIqA2fvNd1YaS3tMkP",
     "type":"CODE",
     "hide_input_from_viewers":true,
     "hide_output_from_viewers":true
    }
   }
  },
  {
   "cell_type":"code",
   "source":[
    "df['city'] = ['London', 'London', 'London', 'Manchester', 'Liverpool']"
   ],
   "execution_count":36,
   "outputs":[],
   "metadata":{
    "datalore":{
     "node_id":"AssRso1orlCTZ4W8yFHWJS",
     "type":"CODE",
     "hide_input_from_viewers":true,
     "hide_output_from_viewers":true
    }
   }
  },
  {
   "cell_type":"code",
   "source":[
    "df"
   ],
   "execution_count":37,
   "outputs":[
    {
     "data":{
      "text\/html":[
       "<div>\n",
       "<style scoped>\n",
       "    .dataframe tbody tr th:only-of-type {\n",
       "        vertical-align: middle;\n",
       "    }\n",
       "\n",
       "    .dataframe tbody tr th {\n",
       "        vertical-align: top;\n",
       "    }\n",
       "\n",
       "    .dataframe thead th {\n",
       "        text-align: right;\n",
       "    }\n",
       "<\/style>\n",
       "<table border=\"1\" class=\"dataframe\">\n",
       "  <thead>\n",
       "    <tr style=\"text-align: right;\">\n",
       "      <th><\/th>\n",
       "      <th>name<\/th>\n",
       "      <th>age<\/th>\n",
       "      <th>gender<\/th>\n",
       "      <th>city<\/th>\n",
       "    <\/tr>\n",
       "  <\/thead>\n",
       "  <tbody>\n",
       "    <tr>\n",
       "      <th>0<\/th>\n",
       "      <td>Toy<\/td>\n",
       "      <td>33<\/td>\n",
       "      <td>M<\/td>\n",
       "      <td>London<\/td>\n",
       "    <\/tr>\n",
       "    <tr>\n",
       "      <th>1<\/th>\n",
       "      <td>Joe<\/td>\n",
       "      <td>25<\/td>\n",
       "      <td>M<\/td>\n",
       "      <td>London<\/td>\n",
       "    <\/tr>\n",
       "    <tr>\n",
       "      <th>2<\/th>\n",
       "      <td>Marry<\/td>\n",
       "      <td>20<\/td>\n",
       "      <td>F<\/td>\n",
       "      <td>London<\/td>\n",
       "    <\/tr>\n",
       "    <tr>\n",
       "      <th>3<\/th>\n",
       "      <td>John<\/td>\n",
       "      <td>22<\/td>\n",
       "      <td>M<\/td>\n",
       "      <td>Manchester<\/td>\n",
       "    <\/tr>\n",
       "    <tr>\n",
       "      <th>4<\/th>\n",
       "      <td>Anna<\/td>\n",
       "      <td>31<\/td>\n",
       "      <td>F<\/td>\n",
       "      <td>Liverpool<\/td>\n",
       "    <\/tr>\n",
       "  <\/tbody>\n",
       "<\/table>\n",
       "<\/div>"
      ]
     },
     "metadata":{},
     "output_type":"display_data"
    }
   ],
   "metadata":{
    "datalore":{
     "node_id":"WkHeE4AAlgbxXeE26mHgki",
     "type":"CODE",
     "hide_input_from_viewers":true,
     "hide_output_from_viewers":true
    }
   }
  },
  {
   "cell_type":"code",
   "source":[
    "df.shape # attribute of dataframe row, column"
   ],
   "execution_count":38,
   "outputs":[
    {
     "data":{
      "text\/plain":[
       "(5, 4)"
      ]
     },
     "metadata":{},
     "output_type":"display_data"
    }
   ],
   "metadata":{
    "datalore":{
     "node_id":"qsmTqq8bDTWPlxhHrtgj6O",
     "type":"CODE",
     "hide_input_from_viewers":true,
     "hide_output_from_viewers":true
    }
   }
  },
  {
   "cell_type":"code",
   "source":[
    "# drop column city\n",
    "df = df.drop(labels='city', axis=1)"
   ],
   "execution_count":39,
   "outputs":[],
   "metadata":{
    "datalore":{
     "node_id":"6ECAb9gWhgRZD0YDX8JBfr",
     "type":"CODE",
     "hide_input_from_viewers":true,
     "hide_output_from_viewers":true
    }
   }
  },
  {
   "cell_type":"code",
   "source":[
    "# remove row index = 2\n",
    "df = df.drop(labels=2, axis=0)"
   ],
   "execution_count":40,
   "outputs":[],
   "metadata":{
    "datalore":{
     "node_id":"qXGhwEHGgUr5ajRHv9mX1x",
     "type":"CODE",
     "hide_input_from_viewers":true,
     "hide_output_from_viewers":true
    }
   }
  },
  {
   "cell_type":"code",
   "source":[
    "df"
   ],
   "execution_count":41,
   "outputs":[
    {
     "data":{
      "text\/html":[
       "<div>\n",
       "<style scoped>\n",
       "    .dataframe tbody tr th:only-of-type {\n",
       "        vertical-align: middle;\n",
       "    }\n",
       "\n",
       "    .dataframe tbody tr th {\n",
       "        vertical-align: top;\n",
       "    }\n",
       "\n",
       "    .dataframe thead th {\n",
       "        text-align: right;\n",
       "    }\n",
       "<\/style>\n",
       "<table border=\"1\" class=\"dataframe\">\n",
       "  <thead>\n",
       "    <tr style=\"text-align: right;\">\n",
       "      <th><\/th>\n",
       "      <th>name<\/th>\n",
       "      <th>age<\/th>\n",
       "      <th>gender<\/th>\n",
       "    <\/tr>\n",
       "  <\/thead>\n",
       "  <tbody>\n",
       "    <tr>\n",
       "      <th>0<\/th>\n",
       "      <td>Toy<\/td>\n",
       "      <td>33<\/td>\n",
       "      <td>M<\/td>\n",
       "    <\/tr>\n",
       "    <tr>\n",
       "      <th>1<\/th>\n",
       "      <td>Joe<\/td>\n",
       "      <td>25<\/td>\n",
       "      <td>M<\/td>\n",
       "    <\/tr>\n",
       "    <tr>\n",
       "      <th>3<\/th>\n",
       "      <td>John<\/td>\n",
       "      <td>22<\/td>\n",
       "      <td>M<\/td>\n",
       "    <\/tr>\n",
       "    <tr>\n",
       "      <th>4<\/th>\n",
       "      <td>Anna<\/td>\n",
       "      <td>31<\/td>\n",
       "      <td>F<\/td>\n",
       "    <\/tr>\n",
       "  <\/tbody>\n",
       "<\/table>\n",
       "<\/div>"
      ]
     },
     "metadata":{},
     "output_type":"display_data"
    }
   ],
   "metadata":{
    "datalore":{
     "node_id":"JzidJaF0TUExd6B8F7yFKd",
     "type":"CODE",
     "hide_input_from_viewers":true,
     "hide_output_from_viewers":true
    }
   }
  },
  {
   "cell_type":"code",
   "source":[
    "# reset index\n",
    "df = df.reset_index(drop=True)"
   ],
   "execution_count":42,
   "outputs":[],
   "metadata":{
    "datalore":{
     "node_id":"5s2416J4S7DgXSbob5GRQv",
     "type":"CODE",
     "hide_input_from_viewers":true,
     "hide_output_from_viewers":true
    }
   }
  },
  {
   "cell_type":"code",
   "source":[
    "df"
   ],
   "execution_count":43,
   "outputs":[
    {
     "data":{
      "text\/html":[
       "<div>\n",
       "<style scoped>\n",
       "    .dataframe tbody tr th:only-of-type {\n",
       "        vertical-align: middle;\n",
       "    }\n",
       "\n",
       "    .dataframe tbody tr th {\n",
       "        vertical-align: top;\n",
       "    }\n",
       "\n",
       "    .dataframe thead th {\n",
       "        text-align: right;\n",
       "    }\n",
       "<\/style>\n",
       "<table border=\"1\" class=\"dataframe\">\n",
       "  <thead>\n",
       "    <tr style=\"text-align: right;\">\n",
       "      <th><\/th>\n",
       "      <th>name<\/th>\n",
       "      <th>age<\/th>\n",
       "      <th>gender<\/th>\n",
       "    <\/tr>\n",
       "  <\/thead>\n",
       "  <tbody>\n",
       "    <tr>\n",
       "      <th>0<\/th>\n",
       "      <td>Toy<\/td>\n",
       "      <td>33<\/td>\n",
       "      <td>M<\/td>\n",
       "    <\/tr>\n",
       "    <tr>\n",
       "      <th>1<\/th>\n",
       "      <td>Joe<\/td>\n",
       "      <td>25<\/td>\n",
       "      <td>M<\/td>\n",
       "    <\/tr>\n",
       "    <tr>\n",
       "      <th>2<\/th>\n",
       "      <td>John<\/td>\n",
       "      <td>22<\/td>\n",
       "      <td>M<\/td>\n",
       "    <\/tr>\n",
       "    <tr>\n",
       "      <th>3<\/th>\n",
       "      <td>Anna<\/td>\n",
       "      <td>31<\/td>\n",
       "      <td>F<\/td>\n",
       "    <\/tr>\n",
       "  <\/tbody>\n",
       "<\/table>\n",
       "<\/div>"
      ]
     },
     "metadata":{},
     "output_type":"display_data"
    }
   ],
   "metadata":{
    "datalore":{
     "node_id":"hilrPObJMmvKocGDQ0VEWE",
     "type":"CODE",
     "hide_input_from_viewers":true,
     "hide_output_from_viewers":true
    }
   }
  },
  {
   "cell_type":"code",
   "source":[
    "# view attribute column name\n",
    "list(df.columns)"
   ],
   "execution_count":44,
   "outputs":[
    {
     "data":{
      "text\/plain":[
       "['name', 'age', 'gender']"
      ]
     },
     "metadata":{},
     "output_type":"display_data"
    }
   ],
   "metadata":{
    "datalore":{
     "node_id":"QXFOchNWcDu3yxW6m23e5F",
     "type":"CODE",
     "hide_input_from_viewers":true,
     "hide_output_from_viewers":true
    }
   }
  },
  {
   "cell_type":"code",
   "source":[
    "# rename columns\n",
    "df.columns = ['nickname', 'age', 'sex']\n",
    "df"
   ],
   "execution_count":45,
   "outputs":[
    {
     "data":{
      "text\/html":[
       "<div>\n",
       "<style scoped>\n",
       "    .dataframe tbody tr th:only-of-type {\n",
       "        vertical-align: middle;\n",
       "    }\n",
       "\n",
       "    .dataframe tbody tr th {\n",
       "        vertical-align: top;\n",
       "    }\n",
       "\n",
       "    .dataframe thead th {\n",
       "        text-align: right;\n",
       "    }\n",
       "<\/style>\n",
       "<table border=\"1\" class=\"dataframe\">\n",
       "  <thead>\n",
       "    <tr style=\"text-align: right;\">\n",
       "      <th><\/th>\n",
       "      <th>nickname<\/th>\n",
       "      <th>age<\/th>\n",
       "      <th>sex<\/th>\n",
       "    <\/tr>\n",
       "  <\/thead>\n",
       "  <tbody>\n",
       "    <tr>\n",
       "      <th>0<\/th>\n",
       "      <td>Toy<\/td>\n",
       "      <td>33<\/td>\n",
       "      <td>M<\/td>\n",
       "    <\/tr>\n",
       "    <tr>\n",
       "      <th>1<\/th>\n",
       "      <td>Joe<\/td>\n",
       "      <td>25<\/td>\n",
       "      <td>M<\/td>\n",
       "    <\/tr>\n",
       "    <tr>\n",
       "      <th>2<\/th>\n",
       "      <td>John<\/td>\n",
       "      <td>22<\/td>\n",
       "      <td>M<\/td>\n",
       "    <\/tr>\n",
       "    <tr>\n",
       "      <th>3<\/th>\n",
       "      <td>Anna<\/td>\n",
       "      <td>31<\/td>\n",
       "      <td>F<\/td>\n",
       "    <\/tr>\n",
       "  <\/tbody>\n",
       "<\/table>\n",
       "<\/div>"
      ]
     },
     "metadata":{},
     "output_type":"display_data"
    }
   ],
   "metadata":{
    "datalore":{
     "node_id":"bzlUH1nDX10s3j9S7heRqC",
     "type":"CODE",
     "hide_input_from_viewers":true,
     "hide_output_from_viewers":true
    }
   }
  },
  {
   "cell_type":"code",
   "source":[
    "## series vs dataframe\n",
    "df['nickname']"
   ],
   "execution_count":46,
   "outputs":[
    {
     "data":{
      "text\/html":[
       "<pre>0     Toy\n",
       "1     Joe\n",
       "2    John\n",
       "3    Anna\n",
       "Name: nickname, dtype: object<\/pre>"
      ]
     },
     "metadata":{},
     "output_type":"display_data"
    }
   ],
   "metadata":{
    "datalore":{
     "node_id":"HnHq5xy3mNcPgTh67dB3EU",
     "type":"CODE",
     "hide_input_from_viewers":true,
     "hide_output_from_viewers":true
    }
   }
  },
  {
   "cell_type":"code",
   "source":[
    "type(df['nickname'])"
   ],
   "execution_count":47,
   "outputs":[
    {
     "data":{
      "text\/plain":[
       "pandas.core.series.Series"
      ]
     },
     "metadata":{},
     "output_type":"display_data"
    }
   ],
   "metadata":{
    "datalore":{
     "node_id":"rb7A9a3v9hK7AbLU2XByzw",
     "type":"CODE",
     "hide_input_from_viewers":true,
     "hide_output_from_viewers":true
    }
   }
  },
  {
   "cell_type":"code",
   "source":[
    "type(df)"
   ],
   "execution_count":48,
   "outputs":[
    {
     "data":{
      "text\/plain":[
       "pandas.core.frame.DataFrame"
      ]
     },
     "metadata":{},
     "output_type":"display_data"
    }
   ],
   "metadata":{
    "datalore":{
     "node_id":"ZnUPq4TD5VkwGnc9ezekm6",
     "type":"CODE",
     "hide_input_from_viewers":true,
     "hide_output_from_viewers":true
    }
   }
  },
  {
   "cell_type":"code",
   "source":[
    "## create a new series\n",
    "s1 = pd.Series(['Marry', 20, 'F'], index=['nickname', 'age', 'sex'])\n",
    "print(s1)\n",
    "print(type(s1))"
   ],
   "execution_count":49,
   "outputs":[
    {
     "name":"stdout",
     "text":[
      "nickname    Marry\n",
      "age            20\n",
      "sex             F\n",
      "dtype: object\n",
      "<class 'pandas.core.series.Series'>\n"
     ],
     "output_type":"stream"
    }
   ],
   "metadata":{
    "datalore":{
     "node_id":"olWZh3yISLrCzkPxDwUJkk",
     "type":"CODE",
     "hide_input_from_viewers":true,
     "hide_output_from_viewers":true
    }
   }
  },
  {
   "cell_type":"code",
   "source":[
    "df"
   ],
   "execution_count":50,
   "outputs":[
    {
     "data":{
      "text\/html":[
       "<div>\n",
       "<style scoped>\n",
       "    .dataframe tbody tr th:only-of-type {\n",
       "        vertical-align: middle;\n",
       "    }\n",
       "\n",
       "    .dataframe tbody tr th {\n",
       "        vertical-align: top;\n",
       "    }\n",
       "\n",
       "    .dataframe thead th {\n",
       "        text-align: right;\n",
       "    }\n",
       "<\/style>\n",
       "<table border=\"1\" class=\"dataframe\">\n",
       "  <thead>\n",
       "    <tr style=\"text-align: right;\">\n",
       "      <th><\/th>\n",
       "      <th>nickname<\/th>\n",
       "      <th>age<\/th>\n",
       "      <th>sex<\/th>\n",
       "    <\/tr>\n",
       "  <\/thead>\n",
       "  <tbody>\n",
       "    <tr>\n",
       "      <th>0<\/th>\n",
       "      <td>Toy<\/td>\n",
       "      <td>33<\/td>\n",
       "      <td>M<\/td>\n",
       "    <\/tr>\n",
       "    <tr>\n",
       "      <th>1<\/th>\n",
       "      <td>Joe<\/td>\n",
       "      <td>25<\/td>\n",
       "      <td>M<\/td>\n",
       "    <\/tr>\n",
       "    <tr>\n",
       "      <th>2<\/th>\n",
       "      <td>John<\/td>\n",
       "      <td>22<\/td>\n",
       "      <td>M<\/td>\n",
       "    <\/tr>\n",
       "    <tr>\n",
       "      <th>3<\/th>\n",
       "      <td>Anna<\/td>\n",
       "      <td>31<\/td>\n",
       "      <td>F<\/td>\n",
       "    <\/tr>\n",
       "  <\/tbody>\n",
       "<\/table>\n",
       "<\/div>"
      ]
     },
     "metadata":{},
     "output_type":"display_data"
    }
   ],
   "metadata":{
    "datalore":{
     "node_id":"vZExmAkGDuiv3FxY8ZWxGk",
     "type":"CODE",
     "hide_input_from_viewers":true,
     "hide_output_from_viewers":true
    }
   }
  },
  {
   "cell_type":"code",
   "source":[
    "## append series\n",
    "df = pd.concat([df, pd.DataFrame([s1])], ignore_index=True)"
   ],
   "execution_count":51,
   "outputs":[],
   "metadata":{
    "datalore":{
     "node_id":"zoODsg6QX9h3NxyW7DbnUh",
     "type":"CODE",
     "hide_input_from_viewers":true,
     "hide_output_from_viewers":true
    }
   }
  },
  {
   "cell_type":"code",
   "source":[
    "df"
   ],
   "execution_count":52,
   "outputs":[
    {
     "data":{
      "text\/html":[
       "<div>\n",
       "<style scoped>\n",
       "    .dataframe tbody tr th:only-of-type {\n",
       "        vertical-align: middle;\n",
       "    }\n",
       "\n",
       "    .dataframe tbody tr th {\n",
       "        vertical-align: top;\n",
       "    }\n",
       "\n",
       "    .dataframe thead th {\n",
       "        text-align: right;\n",
       "    }\n",
       "<\/style>\n",
       "<table border=\"1\" class=\"dataframe\">\n",
       "  <thead>\n",
       "    <tr style=\"text-align: right;\">\n",
       "      <th><\/th>\n",
       "      <th>nickname<\/th>\n",
       "      <th>age<\/th>\n",
       "      <th>sex<\/th>\n",
       "    <\/tr>\n",
       "  <\/thead>\n",
       "  <tbody>\n",
       "    <tr>\n",
       "      <th>0<\/th>\n",
       "      <td>Toy<\/td>\n",
       "      <td>33<\/td>\n",
       "      <td>M<\/td>\n",
       "    <\/tr>\n",
       "    <tr>\n",
       "      <th>1<\/th>\n",
       "      <td>Joe<\/td>\n",
       "      <td>25<\/td>\n",
       "      <td>M<\/td>\n",
       "    <\/tr>\n",
       "    <tr>\n",
       "      <th>2<\/th>\n",
       "      <td>John<\/td>\n",
       "      <td>22<\/td>\n",
       "      <td>M<\/td>\n",
       "    <\/tr>\n",
       "    <tr>\n",
       "      <th>3<\/th>\n",
       "      <td>Anna<\/td>\n",
       "      <td>31<\/td>\n",
       "      <td>F<\/td>\n",
       "    <\/tr>\n",
       "    <tr>\n",
       "      <th>4<\/th>\n",
       "      <td>Marry<\/td>\n",
       "      <td>20<\/td>\n",
       "      <td>F<\/td>\n",
       "    <\/tr>\n",
       "  <\/tbody>\n",
       "<\/table>\n",
       "<\/div>"
      ]
     },
     "metadata":{},
     "output_type":"display_data"
    }
   ],
   "metadata":{
    "datalore":{
     "node_id":"kXeglTD25yC0dbSt1y4ARY",
     "type":"CODE",
     "hide_input_from_viewers":true,
     "hide_output_from_viewers":true
    }
   }
  },
  {
   "cell_type":"code",
   "source":[
    "s2 = pd.Series(['London', 'London', 'London', 'Manchester', 'Liverpool'])\n",
    "df['city'] = s2\n",
    "df"
   ],
   "execution_count":53,
   "outputs":[
    {
     "data":{
      "text\/html":[
       "<div>\n",
       "<style scoped>\n",
       "    .dataframe tbody tr th:only-of-type {\n",
       "        vertical-align: middle;\n",
       "    }\n",
       "\n",
       "    .dataframe tbody tr th {\n",
       "        vertical-align: top;\n",
       "    }\n",
       "\n",
       "    .dataframe thead th {\n",
       "        text-align: right;\n",
       "    }\n",
       "<\/style>\n",
       "<table border=\"1\" class=\"dataframe\">\n",
       "  <thead>\n",
       "    <tr style=\"text-align: right;\">\n",
       "      <th><\/th>\n",
       "      <th>nickname<\/th>\n",
       "      <th>age<\/th>\n",
       "      <th>sex<\/th>\n",
       "      <th>city<\/th>\n",
       "    <\/tr>\n",
       "  <\/thead>\n",
       "  <tbody>\n",
       "    <tr>\n",
       "      <th>0<\/th>\n",
       "      <td>Toy<\/td>\n",
       "      <td>33<\/td>\n",
       "      <td>M<\/td>\n",
       "      <td>London<\/td>\n",
       "    <\/tr>\n",
       "    <tr>\n",
       "      <th>1<\/th>\n",
       "      <td>Joe<\/td>\n",
       "      <td>25<\/td>\n",
       "      <td>M<\/td>\n",
       "      <td>London<\/td>\n",
       "    <\/tr>\n",
       "    <tr>\n",
       "      <th>2<\/th>\n",
       "      <td>John<\/td>\n",
       "      <td>22<\/td>\n",
       "      <td>M<\/td>\n",
       "      <td>London<\/td>\n",
       "    <\/tr>\n",
       "    <tr>\n",
       "      <th>3<\/th>\n",
       "      <td>Anna<\/td>\n",
       "      <td>31<\/td>\n",
       "      <td>F<\/td>\n",
       "      <td>Manchester<\/td>\n",
       "    <\/tr>\n",
       "    <tr>\n",
       "      <th>4<\/th>\n",
       "      <td>Marry<\/td>\n",
       "      <td>20<\/td>\n",
       "      <td>F<\/td>\n",
       "      <td>Liverpool<\/td>\n",
       "    <\/tr>\n",
       "  <\/tbody>\n",
       "<\/table>\n",
       "<\/div>"
      ]
     },
     "metadata":{},
     "output_type":"display_data"
    }
   ],
   "metadata":{
    "datalore":{
     "node_id":"DwEZpwa6xpQ65QpqJqGIy4",
     "type":"CODE",
     "hide_input_from_viewers":true,
     "hide_output_from_viewers":true
    }
   }
  },
  {
   "cell_type":"code",
   "source":[
    "# write datafeame to csv\n",
    "df.to_csv(\"my_export_data.csv\")"
   ],
   "execution_count":56,
   "outputs":[],
   "metadata":{
    "datalore":{
     "node_id":"5lH3KAdKcEZQnWdMetVTVK",
     "type":"CODE",
     "hide_input_from_viewers":true,
     "hide_output_from_viewers":true
    }
   }
  },
  {
   "cell_type":"code",
   "source":[
    "# reade csv to dataframe\n",
    "df2 = pd.read_csv(\"data\/data.csv\")"
   ],
   "execution_count":57,
   "outputs":[
    {
     "ename":"FileNotFoundError",
     "evalue":"FileNotFoundError: [Errno 2] No such file or directory: 'data\/data.csv'",
     "traceback":[
      "\u001b[0;31m---------------------------------------------------------------------------",
      "Traceback (most recent call last)",
      "    at line 2 in <module>",
      "    at line 211 in wrapper(*args, **kwargs)",
      "    at line 331 in wrapper(*args, **kwargs)",
      "    at line 950 in read_csv(filepath_or_buffer, sep, delimiter, header, names, index_col, usecols, squeeze, prefix, mangle_dupe_cols, dtype, engine, converters, true_values, false_values, skipinitialspace, skiprows, skipfooter, nrows, na_values, keep_default_na, na_filter, verbose, skip_blank_lines, parse_dates, infer_datetime_format, keep_date_col, date_parser, dayfirst, cache_dates, iterator, chunksize, compression, thousands, decimal, lineterminator, quotechar, quoting, doublequote, escapechar, comment, encoding, encoding_errors, dialect, error_bad_lines, warn_bad_lines, on_bad_lines, delim_whitespace, low_memory, memory_map, float_precision, storage_options)",
      "    at line 605 in _read(filepath_or_buffer, kwds)",
      "    at line 1442 in __init__(self, f, engine, **kwds)",
      "    at line 1735 in _make_engine(self, f, engine)",
      "    at line 856 in get_handle(path_or_buf, mode, encoding, compression, memory_map, is_text, errors, storage_options)",
      "FileNotFoundError: [Errno 2] No such file or directory: 'data\/data.csv'"
     ],
     "output_type":"error"
    }
   ],
   "metadata":{
    "datalore":{
     "node_id":"jDvMl650NaSQyTIIPTrEvZ",
     "type":"CODE",
     "hide_input_from_viewers":true,
     "hide_output_from_viewers":true
    }
   }
  },
  {
   "cell_type":"code",
   "source":[],
   "execution_count":null,
   "outputs":[],
   "metadata":{
    "datalore":{
     "node_id":"AzrDzOqeRMKgRvQYjynyLn",
     "type":"CODE",
     "hide_input_from_viewers":true,
     "hide_output_from_viewers":true
    }
   }
  }
 ],
 "metadata":{
  "kernelspec":{
   "display_name":"Python",
   "language":"python",
   "name":"python"
  },
  "datalore":{
   "computation_mode":"JUPYTER",
   "package_manager":"pip",
   "base_environment":"default",
   "packages":[],
   "report_row_ids":[],
   "version":3
  }
 },
 "nbformat":4,
 "nbformat_minor":4
}